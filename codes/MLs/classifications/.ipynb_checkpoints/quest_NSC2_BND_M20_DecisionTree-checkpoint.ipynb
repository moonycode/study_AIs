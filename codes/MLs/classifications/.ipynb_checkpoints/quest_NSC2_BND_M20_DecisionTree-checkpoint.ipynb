{
 "cells": [
  {
   "cell_type": "markdown",
   "id": "bc8dd905-b10a-4f28-b811-20582d11f446",
   "metadata": {
    "tags": []
   },
   "source": [
    "### quest(NSC2_BND_M20_DecisionTreeClassifier)\n",
    "- NSC2_BND_M20 사용(목표변수:SICK_SYM1, 연속변수 5개 사용)\n",
    "- quest_NSC2_BND_M20_DecisionTreeClassifier 전처리, 학습, 평가"
   ]
  },
  {
   "cell_type": "code",
   "execution_count": 1,
   "id": "1b887481-bc4a-422b-ae8e-468ee37c8699",
   "metadata": {
    "tags": []
   },
   "outputs": [],
   "source": [
    "import pandas as pd"
   ]
  },
  {
   "cell_type": "code",
   "execution_count": 2,
   "id": "413d2799-6a83-49f3-9f91-0a6c615fa08d",
   "metadata": {
    "tags": []
   },
   "outputs": [
    {
     "name": "stderr",
     "output_type": "stream",
     "text": [
      "C:\\Users\\01-03\\AppData\\Local\\Temp\\ipykernel_15104\\237629605.py:1: DtypeWarning: Columns (3,5,6) have mixed types. Specify dtype option on import or set low_memory=False.\n",
      "  df_BND_M20=pd.read_csv('../../../datasets/NSC2_BND_M20.csv')\n"
     ]
    },
    {
     "data": {
      "text/html": [
       "<div>\n",
       "<style scoped>\n",
       "    .dataframe tbody tr th:only-of-type {\n",
       "        vertical-align: middle;\n",
       "    }\n",
       "\n",
       "    .dataframe tbody tr th {\n",
       "        vertical-align: top;\n",
       "    }\n",
       "\n",
       "    .dataframe thead th {\n",
       "        text-align: right;\n",
       "    }\n",
       "</style>\n",
       "<table border=\"1\" class=\"dataframe\">\n",
       "  <thead>\n",
       "    <tr style=\"text-align: right;\">\n",
       "      <th></th>\n",
       "      <th>Unnamed: 0</th>\n",
       "      <th>_id</th>\n",
       "      <th>RN_INDI</th>\n",
       "      <th>BTH_YYYY</th>\n",
       "      <th>DTH_YYYYMM</th>\n",
       "      <th>COD1</th>\n",
       "      <th>COD2</th>\n",
       "      <th>RN_KEY</th>\n",
       "      <th>RN_INST</th>\n",
       "      <th>MDCARE_STRT_DT</th>\n",
       "      <th>...</th>\n",
       "      <th>OPRTN_YN</th>\n",
       "      <th>MDCARE_DD_CNT</th>\n",
       "      <th>VSHSP_DD_CNT</th>\n",
       "      <th>TOT_PRSC_DD_CNT</th>\n",
       "      <th>MCARE_RSLT_TYPE</th>\n",
       "      <th>EDC_ADD_RT</th>\n",
       "      <th>ED_RC_TOT_AMT</th>\n",
       "      <th>EDC_SBA</th>\n",
       "      <th>EDC_INSUR_BRDN_AMT</th>\n",
       "      <th>STD_YYYY</th>\n",
       "    </tr>\n",
       "  </thead>\n",
       "  <tbody>\n",
       "    <tr>\n",
       "      <th>0</th>\n",
       "      <td>0</td>\n",
       "      <td>64e6b7f1f4500c263e561efd</td>\n",
       "      <td>294364</td>\n",
       "      <td>1921LE</td>\n",
       "      <td>200707.0</td>\n",
       "      <td>T08-T14</td>\n",
       "      <td>W00-W19</td>\n",
       "      <td>2002080298703</td>\n",
       "      <td>26452</td>\n",
       "      <td>20020830</td>\n",
       "      <td>...</td>\n",
       "      <td>0</td>\n",
       "      <td>1</td>\n",
       "      <td>1</td>\n",
       "      <td>3</td>\n",
       "      <td>5.0</td>\n",
       "      <td>0.15</td>\n",
       "      <td>10590</td>\n",
       "      <td>3000</td>\n",
       "      <td>7590</td>\n",
       "      <td>2002</td>\n",
       "    </tr>\n",
       "    <tr>\n",
       "      <th>1</th>\n",
       "      <td>1</td>\n",
       "      <td>64e6b7f1f4500c263e561efe</td>\n",
       "      <td>294364</td>\n",
       "      <td>1921LE</td>\n",
       "      <td>200707.0</td>\n",
       "      <td>T08-T14</td>\n",
       "      <td>W00-W19</td>\n",
       "      <td>2002090466395</td>\n",
       "      <td>63715</td>\n",
       "      <td>20020910</td>\n",
       "      <td>...</td>\n",
       "      <td>0</td>\n",
       "      <td>1</td>\n",
       "      <td>1</td>\n",
       "      <td>2</td>\n",
       "      <td>5.0</td>\n",
       "      <td>0.15</td>\n",
       "      <td>16520</td>\n",
       "      <td>4950</td>\n",
       "      <td>11570</td>\n",
       "      <td>2002</td>\n",
       "    </tr>\n",
       "  </tbody>\n",
       "</table>\n",
       "<p>2 rows × 24 columns</p>\n",
       "</div>"
      ],
      "text/plain": [
       "   Unnamed: 0                       _id  RN_INDI BTH_YYYY  DTH_YYYYMM  \\\n",
       "0           0  64e6b7f1f4500c263e561efd   294364   1921LE    200707.0   \n",
       "1           1  64e6b7f1f4500c263e561efe   294364   1921LE    200707.0   \n",
       "\n",
       "      COD1     COD2         RN_KEY  RN_INST  MDCARE_STRT_DT  ...  OPRTN_YN  \\\n",
       "0  T08-T14  W00-W19  2002080298703    26452        20020830  ...         0   \n",
       "1  T08-T14  W00-W19  2002090466395    63715        20020910  ...         0   \n",
       "\n",
       "   MDCARE_DD_CNT VSHSP_DD_CNT TOT_PRSC_DD_CNT  MCARE_RSLT_TYPE  EDC_ADD_RT  \\\n",
       "0              1            1               3              5.0        0.15   \n",
       "1              1            1               2              5.0        0.15   \n",
       "\n",
       "   ED_RC_TOT_AMT  EDC_SBA  EDC_INSUR_BRDN_AMT  STD_YYYY  \n",
       "0          10590     3000                7590      2002  \n",
       "1          16520     4950               11570      2002  \n",
       "\n",
       "[2 rows x 24 columns]"
      ]
     },
     "execution_count": 2,
     "metadata": {},
     "output_type": "execute_result"
    }
   ],
   "source": [
    "df_BND_M20=pd.read_csv('../../../datasets/NSC2_BND_M20.csv')\n",
    "df_BND_M20[:2]"
   ]
  },
  {
   "cell_type": "code",
   "execution_count": 3,
   "id": "9a774492-3564-4a39-94dd-c7e3f8260cf2",
   "metadata": {
    "tags": []
   },
   "outputs": [
    {
     "data": {
      "text/plain": [
       "Index(['Unnamed: 0', '_id', 'RN_INDI', 'BTH_YYYY', 'DTH_YYYYMM', 'COD1',\n",
       "       'COD2', 'RN_KEY', 'RN_INST', 'MDCARE_STRT_DT', 'FORM_CD',\n",
       "       'MCARE_SUBJ_CD', 'SICK_SYM1', 'OFIJ_TYPE', 'OPRTN_YN', 'MDCARE_DD_CNT',\n",
       "       'VSHSP_DD_CNT', 'TOT_PRSC_DD_CNT', 'MCARE_RSLT_TYPE', 'EDC_ADD_RT',\n",
       "       'ED_RC_TOT_AMT', 'EDC_SBA', 'EDC_INSUR_BRDN_AMT', 'STD_YYYY'],\n",
       "      dtype='object')"
      ]
     },
     "execution_count": 3,
     "metadata": {},
     "output_type": "execute_result"
    }
   ],
   "source": [
    "df_BND_M20.columns"
   ]
  },
  {
   "cell_type": "code",
   "execution_count": 4,
   "id": "e61a8126-8fea-4b62-9761-eb44f3a73f59",
   "metadata": {
    "tags": []
   },
   "outputs": [
    {
     "data": {
      "text/plain": [
       "Unnamed: 0                 0\n",
       "_id                        0\n",
       "RN_INDI                    0\n",
       "BTH_YYYY                   0\n",
       "DTH_YYYYMM            126894\n",
       "COD1                  128690\n",
       "COD2                  136165\n",
       "RN_KEY                     0\n",
       "RN_INST                    0\n",
       "MDCARE_STRT_DT             0\n",
       "FORM_CD                    0\n",
       "MCARE_SUBJ_CD              0\n",
       "SICK_SYM1                  0\n",
       "OFIJ_TYPE               2735\n",
       "OPRTN_YN                   0\n",
       "MDCARE_DD_CNT              0\n",
       "VSHSP_DD_CNT               0\n",
       "TOT_PRSC_DD_CNT            0\n",
       "MCARE_RSLT_TYPE         3205\n",
       "EDC_ADD_RT                 0\n",
       "ED_RC_TOT_AMT              0\n",
       "EDC_SBA                    0\n",
       "EDC_INSUR_BRDN_AMT         0\n",
       "STD_YYYY                   0\n",
       "dtype: int64"
      ]
     },
     "execution_count": 4,
     "metadata": {},
     "output_type": "execute_result"
    }
   ],
   "source": [
    "df_BND_M20.isnull().sum()"
   ]
  },
  {
   "cell_type": "markdown",
   "id": "ce22b429-3a43-4ee5-b53f-4c3abf156226",
   "metadata": {
    "tags": []
   },
   "source": [
    "#### 연속형 데이터 채택(null 값 많지 않은 것 중)\n",
    "- SICK_SYM1 주상병 => 변환 예정\n",
    "- BTH_YYYY 출생년도 => LE 행 drop 필요\n",
    "- VSHSP_DD_CNT 입내원일수\n",
    "- TOT_PRSC_DD_CNT 총처방일수\n",
    "- EDC_ADD_RT 심결가산율\n",
    "- EDC_SBA 심결본인부담금\n",
    "\n",
    "#### 미채택\n",
    "- MDCARE_STRT_DT 요양개시일자 => 변환 필요(귀찮아서 제외)\n",
    "- ED_RC_TOT_AMT 심결요양급여비용총액\n",
    "- EDC_INSUR_BRDN_AMT 심결보험자부담금"
   ]
  },
  {
   "cell_type": "code",
   "execution_count": 5,
   "id": "f8469431-fa49-40fc-bbac-2c5ae0f3357e",
   "metadata": {
    "tags": []
   },
   "outputs": [
    {
     "data": {
      "text/html": [
       "<div>\n",
       "<style scoped>\n",
       "    .dataframe tbody tr th:only-of-type {\n",
       "        vertical-align: middle;\n",
       "    }\n",
       "\n",
       "    .dataframe tbody tr th {\n",
       "        vertical-align: top;\n",
       "    }\n",
       "\n",
       "    .dataframe thead th {\n",
       "        text-align: right;\n",
       "    }\n",
       "</style>\n",
       "<table border=\"1\" class=\"dataframe\">\n",
       "  <thead>\n",
       "    <tr style=\"text-align: right;\">\n",
       "      <th></th>\n",
       "      <th>SICK_SYM1</th>\n",
       "      <th>BTH_YYYY</th>\n",
       "      <th>VSHSP_DD_CNT</th>\n",
       "      <th>TOT_PRSC_DD_CNT</th>\n",
       "      <th>EDC_ADD_RT</th>\n",
       "      <th>EDC_SBA</th>\n",
       "    </tr>\n",
       "  </thead>\n",
       "  <tbody>\n",
       "    <tr>\n",
       "      <th>0</th>\n",
       "      <td>L028</td>\n",
       "      <td>1921LE</td>\n",
       "      <td>1</td>\n",
       "      <td>3</td>\n",
       "      <td>0.15</td>\n",
       "      <td>3000</td>\n",
       "    </tr>\n",
       "    <tr>\n",
       "      <th>1</th>\n",
       "      <td>J030</td>\n",
       "      <td>1921LE</td>\n",
       "      <td>1</td>\n",
       "      <td>2</td>\n",
       "      <td>0.15</td>\n",
       "      <td>4950</td>\n",
       "    </tr>\n",
       "  </tbody>\n",
       "</table>\n",
       "</div>"
      ],
      "text/plain": [
       "  SICK_SYM1 BTH_YYYY  VSHSP_DD_CNT  TOT_PRSC_DD_CNT  EDC_ADD_RT  EDC_SBA\n",
       "0      L028   1921LE             1                3        0.15     3000\n",
       "1      J030   1921LE             1                2        0.15     4950"
      ]
     },
     "execution_count": 5,
     "metadata": {},
     "output_type": "execute_result"
    }
   ],
   "source": [
    "drd_BND_M20=df_BND_M20[['SICK_SYM1','BTH_YYYY','VSHSP_DD_CNT','TOT_PRSC_DD_CNT','EDC_ADD_RT','EDC_SBA']]\n",
    "drd_BND_M20[:2]"
   ]
  },
  {
   "cell_type": "code",
   "execution_count": 6,
   "id": "be17d354-c789-4a7b-a3f9-f949abc27a1c",
   "metadata": {
    "tags": []
   },
   "outputs": [
    {
     "data": {
      "text/plain": [
       "SICK_SYM1          0\n",
       "BTH_YYYY           0\n",
       "VSHSP_DD_CNT       0\n",
       "TOT_PRSC_DD_CNT    0\n",
       "EDC_ADD_RT         0\n",
       "EDC_SBA            0\n",
       "dtype: int64"
      ]
     },
     "execution_count": 6,
     "metadata": {},
     "output_type": "execute_result"
    }
   ],
   "source": [
    "drd_BND_M20.isnull().sum()"
   ]
  },
  {
   "cell_type": "markdown",
   "id": "383062bd-bbb5-46c1-9c6a-faa1b20af1e6",
   "metadata": {},
   "source": [
    "#### 전처리 - SICK_SYM1"
   ]
  },
  {
   "cell_type": "code",
   "execution_count": 7,
   "id": "05c2f7c2-176e-4fdd-899c-5b9cc3e46e37",
   "metadata": {
    "tags": []
   },
   "outputs": [],
   "source": [
    "lst_sym1=drd_BND_M20.value_counts('SICK_SYM1').index.to_list()\n",
    "lst_sym1=sorted(lst_sym1)"
   ]
  },
  {
   "cell_type": "code",
   "execution_count": 8,
   "id": "fd8cd0a4-9800-4524-abd0-bb073d33c4ca",
   "metadata": {
    "tags": []
   },
   "outputs": [],
   "source": [
    "# 딕셔너리 만들기(안해도 되더란..)\n",
    "# def lst_to_dict(lst):\n",
    "#     result_dict = {}\n",
    "#     for idx, value in enumerate(lst, start=1):\n",
    "#         result_dict[value] = idx\n",
    "#     return result_dict\n",
    "\n",
    "# dict_sym1 = lst_to_dict(lst_sym1)\n",
    "\n",
    "# def sym1_to_int(value, dictionary):\n",
    "#     return dictionary.get(value)\n",
    "\n",
    "# drd_BND_M20['SICK_SYM1'] = drd_BND_M20['SICK_SYM1'].apply(sym1_to_int, args=(dict_sym1,))\n",
    "# drd_BND_M20['SICK_SYM1']"
   ]
  },
  {
   "cell_type": "code",
   "execution_count": 9,
   "id": "098ab80d-6840-4942-ae4a-588ab04657de",
   "metadata": {
    "tags": []
   },
   "outputs": [
    {
     "name": "stderr",
     "output_type": "stream",
     "text": [
      "C:\\Users\\01-03\\AppData\\Local\\Temp\\ipykernel_15104\\3867699962.py:4: SettingWithCopyWarning: \n",
      "A value is trying to be set on a copy of a slice from a DataFrame.\n",
      "Try using .loc[row_indexer,col_indexer] = value instead\n",
      "\n",
      "See the caveats in the documentation: https://pandas.pydata.org/pandas-docs/stable/user_guide/indexing.html#returning-a-view-versus-a-copy\n",
      "  drd_BND_M20['SICK_SYM1'] = drd_BND_M20['SICK_SYM1'].apply(sym1_to_int, args=(lst_sym1,))\n"
     ]
    },
    {
     "data": {
      "text/plain": [
       "SICK_SYM1\n",
       "1141    8244\n",
       "897     4629\n",
       "899     3275\n",
       "395     3203\n",
       "2553    3177\n",
       "        ... \n",
       "850        1\n",
       "2503       1\n",
       "846        1\n",
       "2507       1\n",
       "1708       1\n",
       "Length: 3414, dtype: int64"
      ]
     },
     "execution_count": 9,
     "metadata": {},
     "output_type": "execute_result"
    }
   ],
   "source": [
    "def sym1_to_int(value, lst):\n",
    "    return lst.index(value) + 1\n",
    "\n",
    "drd_BND_M20['SICK_SYM1'] = drd_BND_M20['SICK_SYM1'].apply(sym1_to_int, args=(lst_sym1,))\n",
    "drd_BND_M20.value_counts('SICK_SYM1')"
   ]
  },
  {
   "cell_type": "code",
   "execution_count": 10,
   "id": "6e2340a1-d9e8-4d8a-a0d0-33d75e7ef237",
   "metadata": {
    "tags": []
   },
   "outputs": [
    {
     "data": {
      "text/html": [
       "<div>\n",
       "<style scoped>\n",
       "    .dataframe tbody tr th:only-of-type {\n",
       "        vertical-align: middle;\n",
       "    }\n",
       "\n",
       "    .dataframe tbody tr th {\n",
       "        vertical-align: top;\n",
       "    }\n",
       "\n",
       "    .dataframe thead th {\n",
       "        text-align: right;\n",
       "    }\n",
       "</style>\n",
       "<table border=\"1\" class=\"dataframe\">\n",
       "  <thead>\n",
       "    <tr style=\"text-align: right;\">\n",
       "      <th></th>\n",
       "      <th>SICK_SYM1</th>\n",
       "      <th>BTH_YYYY</th>\n",
       "      <th>VSHSP_DD_CNT</th>\n",
       "      <th>TOT_PRSC_DD_CNT</th>\n",
       "      <th>EDC_ADD_RT</th>\n",
       "      <th>EDC_SBA</th>\n",
       "    </tr>\n",
       "  </thead>\n",
       "  <tbody>\n",
       "    <tr>\n",
       "      <th>0</th>\n",
       "      <td>1508</td>\n",
       "      <td>1921LE</td>\n",
       "      <td>1</td>\n",
       "      <td>3</td>\n",
       "      <td>0.15</td>\n",
       "      <td>3000</td>\n",
       "    </tr>\n",
       "    <tr>\n",
       "      <th>1</th>\n",
       "      <td>1096</td>\n",
       "      <td>1921LE</td>\n",
       "      <td>1</td>\n",
       "      <td>2</td>\n",
       "      <td>0.15</td>\n",
       "      <td>4950</td>\n",
       "    </tr>\n",
       "  </tbody>\n",
       "</table>\n",
       "</div>"
      ],
      "text/plain": [
       "   SICK_SYM1 BTH_YYYY  VSHSP_DD_CNT  TOT_PRSC_DD_CNT  EDC_ADD_RT  EDC_SBA\n",
       "0       1508   1921LE             1                3        0.15     3000\n",
       "1       1096   1921LE             1                2        0.15     4950"
      ]
     },
     "execution_count": 10,
     "metadata": {},
     "output_type": "execute_result"
    }
   ],
   "source": [
    "drd_BND_M20[:2]"
   ]
  },
  {
   "cell_type": "markdown",
   "id": "a549e659-325f-4e15-9f73-41cf8c95957f",
   "metadata": {},
   "source": [
    "#### 전처리 - BTH_YYYY"
   ]
  },
  {
   "cell_type": "code",
   "execution_count": 11,
   "id": "c143de00-a68a-439c-9215-7fea3645ee51",
   "metadata": {
    "tags": []
   },
   "outputs": [
    {
     "data": {
      "text/plain": [
       "1299"
      ]
     },
     "execution_count": 11,
     "metadata": {},
     "output_type": "execute_result"
    }
   ],
   "source": [
    "indexes_to_drop = drd_BND_M20[drd_BND_M20['BTH_YYYY'].astype(str).str.endswith('LE')].index\n",
    "pre_BND_M20 = drd_BND_M20.drop(indexes_to_drop)\n",
    "len(indexes_to_drop)"
   ]
  },
  {
   "cell_type": "code",
   "execution_count": 12,
   "id": "24451634-73c9-471d-85f4-38065c87f65b",
   "metadata": {
    "tags": []
   },
   "outputs": [
    {
     "data": {
      "text/html": [
       "<div>\n",
       "<style scoped>\n",
       "    .dataframe tbody tr th:only-of-type {\n",
       "        vertical-align: middle;\n",
       "    }\n",
       "\n",
       "    .dataframe tbody tr th {\n",
       "        vertical-align: top;\n",
       "    }\n",
       "\n",
       "    .dataframe thead th {\n",
       "        text-align: right;\n",
       "    }\n",
       "</style>\n",
       "<table border=\"1\" class=\"dataframe\">\n",
       "  <thead>\n",
       "    <tr style=\"text-align: right;\">\n",
       "      <th></th>\n",
       "      <th>SICK_SYM1</th>\n",
       "      <th>BTH_YYYY</th>\n",
       "      <th>VSHSP_DD_CNT</th>\n",
       "      <th>TOT_PRSC_DD_CNT</th>\n",
       "      <th>EDC_ADD_RT</th>\n",
       "      <th>EDC_SBA</th>\n",
       "    </tr>\n",
       "  </thead>\n",
       "  <tbody>\n",
       "    <tr>\n",
       "      <th>1299</th>\n",
       "      <td>1094</td>\n",
       "      <td>1922</td>\n",
       "      <td>1</td>\n",
       "      <td>3</td>\n",
       "      <td>0.15</td>\n",
       "      <td>3000</td>\n",
       "    </tr>\n",
       "    <tr>\n",
       "      <th>1300</th>\n",
       "      <td>1143</td>\n",
       "      <td>1922</td>\n",
       "      <td>1</td>\n",
       "      <td>2</td>\n",
       "      <td>0.15</td>\n",
       "      <td>3000</td>\n",
       "    </tr>\n",
       "    <tr>\n",
       "      <th>1301</th>\n",
       "      <td>1102</td>\n",
       "      <td>1922</td>\n",
       "      <td>1</td>\n",
       "      <td>2</td>\n",
       "      <td>0.15</td>\n",
       "      <td>3000</td>\n",
       "    </tr>\n",
       "    <tr>\n",
       "      <th>1302</th>\n",
       "      <td>1102</td>\n",
       "      <td>1922</td>\n",
       "      <td>1</td>\n",
       "      <td>2</td>\n",
       "      <td>0.15</td>\n",
       "      <td>3000</td>\n",
       "    </tr>\n",
       "    <tr>\n",
       "      <th>1303</th>\n",
       "      <td>1102</td>\n",
       "      <td>1922</td>\n",
       "      <td>1</td>\n",
       "      <td>2</td>\n",
       "      <td>0.15</td>\n",
       "      <td>3000</td>\n",
       "    </tr>\n",
       "    <tr>\n",
       "      <th>...</th>\n",
       "      <td>...</td>\n",
       "      <td>...</td>\n",
       "      <td>...</td>\n",
       "      <td>...</td>\n",
       "      <td>...</td>\n",
       "      <td>...</td>\n",
       "    </tr>\n",
       "    <tr>\n",
       "      <th>137158</th>\n",
       "      <td>1141</td>\n",
       "      <td>2015</td>\n",
       "      <td>1</td>\n",
       "      <td>0</td>\n",
       "      <td>0.15</td>\n",
       "      <td>2300</td>\n",
       "    </tr>\n",
       "    <tr>\n",
       "      <th>137159</th>\n",
       "      <td>1141</td>\n",
       "      <td>2015</td>\n",
       "      <td>1</td>\n",
       "      <td>0</td>\n",
       "      <td>0.15</td>\n",
       "      <td>3700</td>\n",
       "    </tr>\n",
       "    <tr>\n",
       "      <th>137160</th>\n",
       "      <td>1141</td>\n",
       "      <td>2015</td>\n",
       "      <td>1</td>\n",
       "      <td>0</td>\n",
       "      <td>0.15</td>\n",
       "      <td>2800</td>\n",
       "    </tr>\n",
       "    <tr>\n",
       "      <th>137161</th>\n",
       "      <td>1141</td>\n",
       "      <td>2015</td>\n",
       "      <td>1</td>\n",
       "      <td>0</td>\n",
       "      <td>0.15</td>\n",
       "      <td>2600</td>\n",
       "    </tr>\n",
       "    <tr>\n",
       "      <th>137162</th>\n",
       "      <td>1073</td>\n",
       "      <td>2015</td>\n",
       "      <td>1</td>\n",
       "      <td>0</td>\n",
       "      <td>0.25</td>\n",
       "      <td>6800</td>\n",
       "    </tr>\n",
       "  </tbody>\n",
       "</table>\n",
       "<p>135864 rows × 6 columns</p>\n",
       "</div>"
      ],
      "text/plain": [
       "        SICK_SYM1 BTH_YYYY  VSHSP_DD_CNT  TOT_PRSC_DD_CNT  EDC_ADD_RT  EDC_SBA\n",
       "1299         1094     1922             1                3        0.15     3000\n",
       "1300         1143     1922             1                2        0.15     3000\n",
       "1301         1102     1922             1                2        0.15     3000\n",
       "1302         1102     1922             1                2        0.15     3000\n",
       "1303         1102     1922             1                2        0.15     3000\n",
       "...           ...      ...           ...              ...         ...      ...\n",
       "137158       1141     2015             1                0        0.15     2300\n",
       "137159       1141     2015             1                0        0.15     3700\n",
       "137160       1141     2015             1                0        0.15     2800\n",
       "137161       1141     2015             1                0        0.15     2600\n",
       "137162       1073     2015             1                0        0.25     6800\n",
       "\n",
       "[135864 rows x 6 columns]"
      ]
     },
     "execution_count": 12,
     "metadata": {},
     "output_type": "execute_result"
    }
   ],
   "source": [
    "pre_BND_M20"
   ]
  },
  {
   "cell_type": "markdown",
   "id": "8c769652-2f1d-4401-b895-7916297f5d68",
   "metadata": {},
   "source": [
    "#### 정형화"
   ]
  },
  {
   "cell_type": "code",
   "execution_count": 13,
   "id": "e053792d-ec16-47f4-bd16-64b7fa63b9f0",
   "metadata": {
    "tags": []
   },
   "outputs": [
    {
     "data": {
      "text/plain": [
       "((135864,), (135864, 5))"
      ]
     },
     "execution_count": 13,
     "metadata": {},
     "output_type": "execute_result"
    }
   ],
   "source": [
    "target_train = pre_BND_M20['SICK_SYM1'] # 목표변수\n",
    "features_train = pre_BND_M20.drop(columns=['SICK_SYM1']) # 설명변수\n",
    "target_train.shape, features_train.shape"
   ]
  },
  {
   "cell_type": "markdown",
   "id": "2365dc46-957a-4205-a9df-80b5a154d7ab",
   "metadata": {},
   "source": [
    "#### 모델 학습"
   ]
  },
  {
   "cell_type": "code",
   "execution_count": 14,
   "id": "fd952619-44fb-4f30-9a12-54cd8527b0a9",
   "metadata": {
    "tags": []
   },
   "outputs": [
    {
     "data": {
      "text/html": [
       "<style>#sk-container-id-1 {color: black;background-color: white;}#sk-container-id-1 pre{padding: 0;}#sk-container-id-1 div.sk-toggleable {background-color: white;}#sk-container-id-1 label.sk-toggleable__label {cursor: pointer;display: block;width: 100%;margin-bottom: 0;padding: 0.3em;box-sizing: border-box;text-align: center;}#sk-container-id-1 label.sk-toggleable__label-arrow:before {content: \"▸\";float: left;margin-right: 0.25em;color: #696969;}#sk-container-id-1 label.sk-toggleable__label-arrow:hover:before {color: black;}#sk-container-id-1 div.sk-estimator:hover label.sk-toggleable__label-arrow:before {color: black;}#sk-container-id-1 div.sk-toggleable__content {max-height: 0;max-width: 0;overflow: hidden;text-align: left;background-color: #f0f8ff;}#sk-container-id-1 div.sk-toggleable__content pre {margin: 0.2em;color: black;border-radius: 0.25em;background-color: #f0f8ff;}#sk-container-id-1 input.sk-toggleable__control:checked~div.sk-toggleable__content {max-height: 200px;max-width: 100%;overflow: auto;}#sk-container-id-1 input.sk-toggleable__control:checked~label.sk-toggleable__label-arrow:before {content: \"▾\";}#sk-container-id-1 div.sk-estimator input.sk-toggleable__control:checked~label.sk-toggleable__label {background-color: #d4ebff;}#sk-container-id-1 div.sk-label input.sk-toggleable__control:checked~label.sk-toggleable__label {background-color: #d4ebff;}#sk-container-id-1 input.sk-hidden--visually {border: 0;clip: rect(1px 1px 1px 1px);clip: rect(1px, 1px, 1px, 1px);height: 1px;margin: -1px;overflow: hidden;padding: 0;position: absolute;width: 1px;}#sk-container-id-1 div.sk-estimator {font-family: monospace;background-color: #f0f8ff;border: 1px dotted black;border-radius: 0.25em;box-sizing: border-box;margin-bottom: 0.5em;}#sk-container-id-1 div.sk-estimator:hover {background-color: #d4ebff;}#sk-container-id-1 div.sk-parallel-item::after {content: \"\";width: 100%;border-bottom: 1px solid gray;flex-grow: 1;}#sk-container-id-1 div.sk-label:hover label.sk-toggleable__label {background-color: #d4ebff;}#sk-container-id-1 div.sk-serial::before {content: \"\";position: absolute;border-left: 1px solid gray;box-sizing: border-box;top: 0;bottom: 0;left: 50%;z-index: 0;}#sk-container-id-1 div.sk-serial {display: flex;flex-direction: column;align-items: center;background-color: white;padding-right: 0.2em;padding-left: 0.2em;position: relative;}#sk-container-id-1 div.sk-item {position: relative;z-index: 1;}#sk-container-id-1 div.sk-parallel {display: flex;align-items: stretch;justify-content: center;background-color: white;position: relative;}#sk-container-id-1 div.sk-item::before, #sk-container-id-1 div.sk-parallel-item::before {content: \"\";position: absolute;border-left: 1px solid gray;box-sizing: border-box;top: 0;bottom: 0;left: 50%;z-index: -1;}#sk-container-id-1 div.sk-parallel-item {display: flex;flex-direction: column;z-index: 1;position: relative;background-color: white;}#sk-container-id-1 div.sk-parallel-item:first-child::after {align-self: flex-end;width: 50%;}#sk-container-id-1 div.sk-parallel-item:last-child::after {align-self: flex-start;width: 50%;}#sk-container-id-1 div.sk-parallel-item:only-child::after {width: 0;}#sk-container-id-1 div.sk-dashed-wrapped {border: 1px dashed gray;margin: 0 0.4em 0.5em 0.4em;box-sizing: border-box;padding-bottom: 0.4em;background-color: white;}#sk-container-id-1 div.sk-label label {font-family: monospace;font-weight: bold;display: inline-block;line-height: 1.2em;}#sk-container-id-1 div.sk-label-container {text-align: center;}#sk-container-id-1 div.sk-container {/* jupyter's `normalize.less` sets `[hidden] { display: none; }` but bootstrap.min.css set `[hidden] { display: none !important; }` so we also need the `!important` here to be able to override the default hidden behavior on the sphinx rendered scikit-learn.org. See: https://github.com/scikit-learn/scikit-learn/issues/21755 */display: inline-block !important;position: relative;}#sk-container-id-1 div.sk-text-repr-fallback {display: none;}</style><div id=\"sk-container-id-1\" class=\"sk-top-container\"><div class=\"sk-text-repr-fallback\"><pre>DecisionTreeClassifier()</pre><b>In a Jupyter environment, please rerun this cell to show the HTML representation or trust the notebook. <br />On GitHub, the HTML representation is unable to render, please try loading this page with nbviewer.org.</b></div><div class=\"sk-container\" hidden><div class=\"sk-item\"><div class=\"sk-estimator sk-toggleable\"><input class=\"sk-toggleable__control sk-hidden--visually\" id=\"sk-estimator-id-1\" type=\"checkbox\" checked><label for=\"sk-estimator-id-1\" class=\"sk-toggleable__label sk-toggleable__label-arrow\">DecisionTreeClassifier</label><div class=\"sk-toggleable__content\"><pre>DecisionTreeClassifier()</pre></div></div></div></div></div>"
      ],
      "text/plain": [
       "DecisionTreeClassifier()"
      ]
     },
     "execution_count": 14,
     "metadata": {},
     "output_type": "execute_result"
    }
   ],
   "source": [
    "from sklearn.tree import DecisionTreeClassifier\n",
    "model = DecisionTreeClassifier()\n",
    "model.fit(features_train, target_train)"
   ]
  },
  {
   "cell_type": "code",
   "execution_count": 15,
   "id": "142ece6d-1e9f-402c-8572-aef65ec90e36",
   "metadata": {
    "tags": []
   },
   "outputs": [],
   "source": [
    "import matplotlib.pyplot as plt\n",
    "from sklearn.tree import plot_tree"
   ]
  },
  {
   "cell_type": "code",
   "execution_count": 16,
   "id": "e0b7b95b-dd75-4176-ac22-721764ac749d",
   "metadata": {
    "tags": []
   },
   "outputs": [],
   "source": [
    "%matplotlib inline"
   ]
  },
  {
   "cell_type": "code",
   "execution_count": 17,
   "id": "5d7f7466-a5c4-4057-9402-b8955644303b",
   "metadata": {
    "tags": []
   },
   "outputs": [],
   "source": [
    "# plot_tree(model, feature_names=features_train.columns) # 수치와 함께 표시\n",
    "# plt.figure(figsize=(30,15))\n",
    "# plot_tree(model, feature_names=features_train.columns, filled=True)\n",
    "# plt.show()"
   ]
  },
  {
   "cell_type": "markdown",
   "id": "c4c3c844-7e49-44c6-b789-0c6a7e20fc1b",
   "metadata": {},
   "source": [
    "#### 평가"
   ]
  },
  {
   "cell_type": "code",
   "execution_count": 18,
   "id": "baba2eed-30b5-409e-966c-e8e067ea6ec5",
   "metadata": {
    "tags": []
   },
   "outputs": [
    {
     "data": {
      "text/plain": [
       "(135864,)"
      ]
     },
     "execution_count": 18,
     "metadata": {},
     "output_type": "execute_result"
    }
   ],
   "source": [
    "target_predict = model.predict(features_train)\n",
    "target_predict.shape"
   ]
  },
  {
   "cell_type": "code",
   "execution_count": 19,
   "id": "4d54f7ab-9fc7-40bc-9186-ac6a8d3e3f09",
   "metadata": {
    "tags": []
   },
   "outputs": [
    {
     "data": {
      "text/plain": [
       "0.6143790849673203"
      ]
     },
     "execution_count": 19,
     "metadata": {},
     "output_type": "execute_result"
    }
   ],
   "source": [
    "from sklearn.metrics import accuracy_score\n",
    "accuracy_score(target_train, target_predict)"
   ]
  }
 ],
 "metadata": {
  "kernelspec": {
   "display_name": "Python 3 (ipykernel)",
   "language": "python",
   "name": "python3"
  },
  "language_info": {
   "codemirror_mode": {
    "name": "ipython",
    "version": 3
   },
   "file_extension": ".py",
   "mimetype": "text/x-python",
   "name": "python",
   "nbconvert_exporter": "python",
   "pygments_lexer": "ipython3",
   "version": "3.11.3"
  }
 },
 "nbformat": 4,
 "nbformat_minor": 5
}
