{
 "cells": [
  {
   "cell_type": "markdown",
   "id": "3382e031-9499-48d7-a794-74ec07108096",
   "metadata": {
    "tags": []
   },
   "source": [
    "### 지도학습\n",
    "#### 분류-다항분류"
   ]
  },
  {
   "cell_type": "code",
   "execution_count": 3,
   "id": "64e686eb-6b33-4700-9ed8-7d6cc0a91262",
   "metadata": {
    "tags": []
   },
   "outputs": [],
   "source": [
    "import pandas as pd"
   ]
  },
  {
   "cell_type": "code",
   "execution_count": 5,
   "id": "413d2799-6a83-49f3-9f91-0a6c615fa08d",
   "metadata": {
    "tags": []
   },
   "outputs": [],
   "source": [
    "df_TFD=pd.read_csv('../../../datasets/TitanicMachineLearningfromDisaster_train.csv')"
   ]
  },
  {
   "cell_type": "code",
   "execution_count": 6,
   "id": "9a774492-3564-4a39-94dd-c7e3f8260cf2",
   "metadata": {
    "tags": []
   },
   "outputs": [
    {
     "data": {
      "text/plain": [
       "Index(['PassengerId', 'Survived', 'Pclass', 'Name', 'Sex', 'Age', 'SibSp',\n",
       "       'Parch', 'Ticket', 'Fare', 'Cabin', 'Embarked'],\n",
       "      dtype='object')"
      ]
     },
     "execution_count": 6,
     "metadata": {},
     "output_type": "execute_result"
    }
   ],
   "source": [
    "df_TFD.columns"
   ]
  },
  {
   "cell_type": "code",
   "execution_count": 7,
   "id": "6e2340a1-d9e8-4d8a-a0d0-33d75e7ef237",
   "metadata": {
    "tags": []
   },
   "outputs": [],
   "source": [
    "drd_df_TFD = df_TFD[['Survived','Pclass','Age']]"
   ]
  },
  {
   "cell_type": "code",
   "execution_count": 9,
   "id": "9a9ab2c7-76d0-4282-9836-a6f262a30991",
   "metadata": {
    "tags": []
   },
   "outputs": [],
   "source": [
    "pre_drd_df_TFD=drd_df_TFD.dropna()"
   ]
  },
  {
   "cell_type": "code",
   "execution_count": 10,
   "id": "6fd658f4-3e97-41a1-9300-72f7400da3bc",
   "metadata": {
    "tags": []
   },
   "outputs": [
    {
     "data": {
      "text/html": [
       "<div>\n",
       "<style scoped>\n",
       "    .dataframe tbody tr th:only-of-type {\n",
       "        vertical-align: middle;\n",
       "    }\n",
       "\n",
       "    .dataframe tbody tr th {\n",
       "        vertical-align: top;\n",
       "    }\n",
       "\n",
       "    .dataframe thead th {\n",
       "        text-align: right;\n",
       "    }\n",
       "</style>\n",
       "<table border=\"1\" class=\"dataframe\">\n",
       "  <thead>\n",
       "    <tr style=\"text-align: right;\">\n",
       "      <th></th>\n",
       "      <th>Survived</th>\n",
       "      <th>Pclass</th>\n",
       "      <th>Age</th>\n",
       "    </tr>\n",
       "  </thead>\n",
       "  <tbody>\n",
       "    <tr>\n",
       "      <th>0</th>\n",
       "      <td>0</td>\n",
       "      <td>3</td>\n",
       "      <td>22.0</td>\n",
       "    </tr>\n",
       "    <tr>\n",
       "      <th>1</th>\n",
       "      <td>1</td>\n",
       "      <td>1</td>\n",
       "      <td>38.0</td>\n",
       "    </tr>\n",
       "  </tbody>\n",
       "</table>\n",
       "</div>"
      ],
      "text/plain": [
       "   Survived  Pclass   Age\n",
       "0         0       3  22.0\n",
       "1         1       1  38.0"
      ]
     },
     "execution_count": 10,
     "metadata": {},
     "output_type": "execute_result"
    }
   ],
   "source": [
    "pre_drd_df_TFD[:2]"
   ]
  },
  {
   "cell_type": "code",
   "execution_count": 11,
   "id": "e053792d-ec16-47f4-bd16-64b7fa63b9f0",
   "metadata": {
    "tags": []
   },
   "outputs": [
    {
     "data": {
      "text/plain": [
       "((714,), (714, 2))"
      ]
     },
     "execution_count": 11,
     "metadata": {},
     "output_type": "execute_result"
    }
   ],
   "source": [
    "target_train = pre_drd_df_TFD['Survived']\n",
    "features_train = pre_drd_df_TFD[['Pclass','Age']]\n",
    "target_train.shape, features_train.shape"
   ]
  },
  {
   "cell_type": "code",
   "execution_count": null,
   "id": "ae08474f-9fe9-4a1e-94df-89f389019093",
   "metadata": {},
   "outputs": [],
   "source": [
    "def trans_diagnosis(value):\n",
    "    if value == 'M':\n",
    "        return 0\n",
    "    else :\n",
    "        return 1\n",
    "\n",
    "pre_drd_df_TFD['diagnosis'] = pre_drd_df_TFD['diagnosis'].apply(trans_diagnosis)"
   ]
  }
 ],
 "metadata": {
  "kernelspec": {
   "display_name": "Python 3 (ipykernel)",
   "language": "python",
   "name": "python3"
  },
  "language_info": {
   "codemirror_mode": {
    "name": "ipython",
    "version": 3
   },
   "file_extension": ".py",
   "mimetype": "text/x-python",
   "name": "python",
   "nbconvert_exporter": "python",
   "pygments_lexer": "ipython3",
   "version": "3.11.3"
  }
 },
 "nbformat": 4,
 "nbformat_minor": 5
}
