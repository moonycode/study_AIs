{
 "cells": [
  {
   "cell_type": "markdown",
   "id": "1217858d-8712-4eae-a45c-1080a979f6fd",
   "metadata": {},
   "source": [
    "# Quest : NSC2_M20 Regression\n",
    "- db_NHIS.NSC2_M20 in mongodb\n",
    "- 연속형 타입 3가지 선택(target, label), csv 저장\n",
    "- 전처리, 학습, 평가, 예측 과정 진행"
   ]
  },
  {
   "cell_type": "markdown",
   "id": "04a60773-7fb9-4edc-bd0c-614f7b8d21d2",
   "metadata": {},
   "source": [
    "### NSC2_M20.csv 생성"
   ]
  },
  {
   "cell_type": "code",
   "execution_count": 26,
   "id": "978adefc-d697-4b1c-bc9e-7553b5cbf25a",
   "metadata": {
    "tags": []
   },
   "outputs": [],
   "source": [
    "import pymongo as mg\n",
    "import pandas as pd"
   ]
  },
  {
   "cell_type": "code",
   "execution_count": 27,
   "id": "6149490f-a00b-44a4-9cbe-3144ad3eb7ce",
   "metadata": {
    "tags": []
   },
   "outputs": [
    {
     "data": {
      "text/html": [
       "<div>\n",
       "<style scoped>\n",
       "    .dataframe tbody tr th:only-of-type {\n",
       "        vertical-align: middle;\n",
       "    }\n",
       "\n",
       "    .dataframe tbody tr th {\n",
       "        vertical-align: top;\n",
       "    }\n",
       "\n",
       "    .dataframe thead th {\n",
       "        text-align: right;\n",
       "    }\n",
       "</style>\n",
       "<table border=\"1\" class=\"dataframe\">\n",
       "  <thead>\n",
       "    <tr style=\"text-align: right;\">\n",
       "      <th></th>\n",
       "      <th>_id</th>\n",
       "      <th>RN_INDI</th>\n",
       "      <th>RN_KEY</th>\n",
       "      <th>RN_INST</th>\n",
       "      <th>MDCARE_STRT_DT</th>\n",
       "      <th>FORM_CD</th>\n",
       "      <th>MCARE_SUBJ_CD</th>\n",
       "      <th>SICK_SYM1</th>\n",
       "      <th>OFIJ_TYPE</th>\n",
       "      <th>OPRTN_YN</th>\n",
       "      <th>...</th>\n",
       "      <th>MCARE_RSLT_TYPE</th>\n",
       "      <th>EDC_ADD_RT</th>\n",
       "      <th>ED_RC_TOT_AMT</th>\n",
       "      <th>EDC_SBA</th>\n",
       "      <th>EDC_INSUR_BRDN_AMT</th>\n",
       "      <th>STD_YYYY</th>\n",
       "      <th>HSPTZ_PATH_TYPE</th>\n",
       "      <th>SICK_SYM2</th>\n",
       "      <th>SPCF_SYM_TYPE</th>\n",
       "      <th>FST_HSPTZ_DT</th>\n",
       "    </tr>\n",
       "  </thead>\n",
       "  <tbody>\n",
       "    <tr>\n",
       "      <th>0</th>\n",
       "      <td>64e6aa403354d2e66dfa2da1</td>\n",
       "      <td>429577</td>\n",
       "      <td>2002070826167</td>\n",
       "      <td>101494</td>\n",
       "      <td>20020729</td>\n",
       "      <td>3</td>\n",
       "      <td>15</td>\n",
       "      <td>B07</td>\n",
       "      <td>0</td>\n",
       "      <td>0</td>\n",
       "      <td>...</td>\n",
       "      <td>5.0</td>\n",
       "      <td>0.15</td>\n",
       "      <td>10590</td>\n",
       "      <td>3000</td>\n",
       "      <td>7590</td>\n",
       "      <td>2002</td>\n",
       "      <td>NaN</td>\n",
       "      <td>NaN</td>\n",
       "      <td>NaN</td>\n",
       "      <td>NaN</td>\n",
       "    </tr>\n",
       "    <tr>\n",
       "      <th>1</th>\n",
       "      <td>64e6aa403354d2e66dfa2da2</td>\n",
       "      <td>362517</td>\n",
       "      <td>2002070388352</td>\n",
       "      <td>82780</td>\n",
       "      <td>20020729</td>\n",
       "      <td>3</td>\n",
       "      <td>14</td>\n",
       "      <td>B354</td>\n",
       "      <td>NaN</td>\n",
       "      <td>0</td>\n",
       "      <td>...</td>\n",
       "      <td>5.0</td>\n",
       "      <td>0.15</td>\n",
       "      <td>10590</td>\n",
       "      <td>3000</td>\n",
       "      <td>7590</td>\n",
       "      <td>2002</td>\n",
       "      <td>NaN</td>\n",
       "      <td>NaN</td>\n",
       "      <td>NaN</td>\n",
       "      <td>NaN</td>\n",
       "    </tr>\n",
       "  </tbody>\n",
       "</table>\n",
       "<p>2 rows × 23 columns</p>\n",
       "</div>"
      ],
      "text/plain": [
       "                        _id  RN_INDI         RN_KEY  RN_INST  MDCARE_STRT_DT  \\\n",
       "0  64e6aa403354d2e66dfa2da1   429577  2002070826167   101494        20020729   \n",
       "1  64e6aa403354d2e66dfa2da2   362517  2002070388352    82780        20020729   \n",
       "\n",
       "   FORM_CD  MCARE_SUBJ_CD SICK_SYM1 OFIJ_TYPE  OPRTN_YN  ...  MCARE_RSLT_TYPE  \\\n",
       "0        3             15       B07         0         0  ...              5.0   \n",
       "1        3             14      B354       NaN         0  ...              5.0   \n",
       "\n",
       "   EDC_ADD_RT  ED_RC_TOT_AMT  EDC_SBA  EDC_INSUR_BRDN_AMT  STD_YYYY  \\\n",
       "0        0.15          10590     3000                7590      2002   \n",
       "1        0.15          10590     3000                7590      2002   \n",
       "\n",
       "   HSPTZ_PATH_TYPE  SICK_SYM2  SPCF_SYM_TYPE  FST_HSPTZ_DT  \n",
       "0              NaN        NaN            NaN           NaN  \n",
       "1              NaN        NaN            NaN           NaN  \n",
       "\n",
       "[2 rows x 23 columns]"
      ]
     },
     "execution_count": 27,
     "metadata": {},
     "output_type": "execute_result"
    }
   ],
   "source": [
    "client = mg.MongoClient(host='mongodb://localhost:27017')\n",
    "database = client['db_NHIS']\n",
    "collection = database['NSC2_M20']\n",
    "cursor = collection.find({})\n",
    "list_cursor = list(cursor)\n",
    "df_M20=pd.DataFrame(list_cursor)\n",
    "df_M20[:2]"
   ]
  },
  {
   "cell_type": "code",
   "execution_count": 28,
   "id": "4d029b73-1904-4f66-ad0b-bb63a58bbbed",
   "metadata": {
    "tags": []
   },
   "outputs": [],
   "source": [
    "df_M20.to_csv(\"./NSC2_M20.csv\")"
   ]
  },
  {
   "cell_type": "markdown",
   "id": "df8a5be3-3242-4d7e-bde8-f5b9b9d6044e",
   "metadata": {},
   "source": [
    "### 연속형 타입 선택, target, label csv 저장\n",
    "- 목표변수 : EDC_SBA (심결본인부담금)\n",
    "- 설명변수 : MDCARE_DD_CNT (요양일수), EDC_ADD_RT (심결가산율)"
   ]
  },
  {
   "cell_type": "code",
   "execution_count": 29,
   "id": "ae60bed4-715f-4c84-8189-7a1c630b4264",
   "metadata": {
    "tags": []
   },
   "outputs": [
    {
     "name": "stderr",
     "output_type": "stream",
     "text": [
      "C:\\Users\\01-03\\AppData\\Local\\Temp\\ipykernel_12168\\3170213141.py:1: DtypeWarning: Columns (9) have mixed types. Specify dtype option on import or set low_memory=False.\n",
      "  df_M20 = pd.read_csv(\"./NSC2_M20.csv\")\n"
     ]
    },
    {
     "data": {
      "text/html": [
       "<div>\n",
       "<style scoped>\n",
       "    .dataframe tbody tr th:only-of-type {\n",
       "        vertical-align: middle;\n",
       "    }\n",
       "\n",
       "    .dataframe tbody tr th {\n",
       "        vertical-align: top;\n",
       "    }\n",
       "\n",
       "    .dataframe thead th {\n",
       "        text-align: right;\n",
       "    }\n",
       "</style>\n",
       "<table border=\"1\" class=\"dataframe\">\n",
       "  <thead>\n",
       "    <tr style=\"text-align: right;\">\n",
       "      <th></th>\n",
       "      <th>Unnamed: 0</th>\n",
       "      <th>_id</th>\n",
       "      <th>RN_INDI</th>\n",
       "      <th>RN_KEY</th>\n",
       "      <th>RN_INST</th>\n",
       "      <th>MDCARE_STRT_DT</th>\n",
       "      <th>FORM_CD</th>\n",
       "      <th>MCARE_SUBJ_CD</th>\n",
       "      <th>SICK_SYM1</th>\n",
       "      <th>OFIJ_TYPE</th>\n",
       "      <th>...</th>\n",
       "      <th>MCARE_RSLT_TYPE</th>\n",
       "      <th>EDC_ADD_RT</th>\n",
       "      <th>ED_RC_TOT_AMT</th>\n",
       "      <th>EDC_SBA</th>\n",
       "      <th>EDC_INSUR_BRDN_AMT</th>\n",
       "      <th>STD_YYYY</th>\n",
       "      <th>HSPTZ_PATH_TYPE</th>\n",
       "      <th>SICK_SYM2</th>\n",
       "      <th>SPCF_SYM_TYPE</th>\n",
       "      <th>FST_HSPTZ_DT</th>\n",
       "    </tr>\n",
       "  </thead>\n",
       "  <tbody>\n",
       "    <tr>\n",
       "      <th>0</th>\n",
       "      <td>0</td>\n",
       "      <td>64e6aa403354d2e66dfa2da1</td>\n",
       "      <td>429577</td>\n",
       "      <td>2002070826167</td>\n",
       "      <td>101494</td>\n",
       "      <td>20020729</td>\n",
       "      <td>3</td>\n",
       "      <td>15</td>\n",
       "      <td>B07</td>\n",
       "      <td>0.0</td>\n",
       "      <td>...</td>\n",
       "      <td>5.0</td>\n",
       "      <td>0.15</td>\n",
       "      <td>10590</td>\n",
       "      <td>3000</td>\n",
       "      <td>7590</td>\n",
       "      <td>2002</td>\n",
       "      <td>NaN</td>\n",
       "      <td>NaN</td>\n",
       "      <td>NaN</td>\n",
       "      <td>NaN</td>\n",
       "    </tr>\n",
       "    <tr>\n",
       "      <th>1</th>\n",
       "      <td>1</td>\n",
       "      <td>64e6aa403354d2e66dfa2da2</td>\n",
       "      <td>362517</td>\n",
       "      <td>2002070388352</td>\n",
       "      <td>82780</td>\n",
       "      <td>20020729</td>\n",
       "      <td>3</td>\n",
       "      <td>14</td>\n",
       "      <td>B354</td>\n",
       "      <td>NaN</td>\n",
       "      <td>...</td>\n",
       "      <td>5.0</td>\n",
       "      <td>0.15</td>\n",
       "      <td>10590</td>\n",
       "      <td>3000</td>\n",
       "      <td>7590</td>\n",
       "      <td>2002</td>\n",
       "      <td>NaN</td>\n",
       "      <td>NaN</td>\n",
       "      <td>NaN</td>\n",
       "      <td>NaN</td>\n",
       "    </tr>\n",
       "  </tbody>\n",
       "</table>\n",
       "<p>2 rows × 24 columns</p>\n",
       "</div>"
      ],
      "text/plain": [
       "   Unnamed: 0                       _id  RN_INDI         RN_KEY  RN_INST  \\\n",
       "0           0  64e6aa403354d2e66dfa2da1   429577  2002070826167   101494   \n",
       "1           1  64e6aa403354d2e66dfa2da2   362517  2002070388352    82780   \n",
       "\n",
       "   MDCARE_STRT_DT  FORM_CD  MCARE_SUBJ_CD SICK_SYM1 OFIJ_TYPE  ...  \\\n",
       "0        20020729        3             15       B07       0.0  ...   \n",
       "1        20020729        3             14      B354       NaN  ...   \n",
       "\n",
       "   MCARE_RSLT_TYPE  EDC_ADD_RT  ED_RC_TOT_AMT  EDC_SBA  EDC_INSUR_BRDN_AMT  \\\n",
       "0              5.0        0.15          10590     3000                7590   \n",
       "1              5.0        0.15          10590     3000                7590   \n",
       "\n",
       "   STD_YYYY  HSPTZ_PATH_TYPE  SICK_SYM2  SPCF_SYM_TYPE  FST_HSPTZ_DT  \n",
       "0      2002              NaN        NaN            NaN           NaN  \n",
       "1      2002              NaN        NaN            NaN           NaN  \n",
       "\n",
       "[2 rows x 24 columns]"
      ]
     },
     "execution_count": 29,
     "metadata": {},
     "output_type": "execute_result"
    }
   ],
   "source": [
    "df_M20 = pd.read_csv(\"./NSC2_M20.csv\")\n",
    "df_M20[:2]"
   ]
  },
  {
   "cell_type": "code",
   "execution_count": 30,
   "id": "ee180f92-2ac1-4bdb-ae94-be74f9fbb4f5",
   "metadata": {
    "tags": []
   },
   "outputs": [
    {
     "name": "stdout",
     "output_type": "stream",
     "text": [
      "<class 'pandas.core.frame.DataFrame'>\n",
      "RangeIndex: 137163 entries, 0 to 137162\n",
      "Data columns (total 3 columns):\n",
      " #   Column         Non-Null Count   Dtype  \n",
      "---  ------         --------------   -----  \n",
      " 0   EDC_SBA        137163 non-null  int64  \n",
      " 1   MDCARE_DD_CNT  137163 non-null  int64  \n",
      " 2   EDC_ADD_RT     137163 non-null  float64\n",
      "dtypes: float64(1), int64(2)\n",
      "memory usage: 3.1 MB\n"
     ]
    }
   ],
   "source": [
    "# 목표변수와 설명변수 추출\n",
    "# 'EDC_SBA', 'MDCARE_DD_CNT', 'EDC_ADD_RT' \n",
    "drd_df_M20 = df_M20[['EDC_SBA', 'MDCARE_DD_CNT', 'EDC_ADD_RT']]\n",
    "drd_df_M20.info()"
   ]
  },
  {
   "cell_type": "code",
   "execution_count": 31,
   "id": "691ed63e-ae83-4896-a792-ac9452446cea",
   "metadata": {
    "tags": []
   },
   "outputs": [],
   "source": [
    "target = drd_df_M20['EDC_SBA']\n",
    "labels = drd_df_M20.drop(columns=['EDC_SBA'])"
   ]
  },
  {
   "cell_type": "code",
   "execution_count": 39,
   "id": "b37d1a47-7ce2-45fb-92ba-68c9e7bb6b37",
   "metadata": {
    "tags": []
   },
   "outputs": [
    {
     "data": {
      "text/plain": [
       "((137163,), (137163, 2))"
      ]
     },
     "execution_count": 39,
     "metadata": {},
     "output_type": "execute_result"
    }
   ],
   "source": [
    "# target[:2]\n",
    "# Labels[:2]\n",
    "target.shape , labels.shape"
   ]
  },
  {
   "cell_type": "markdown",
   "id": "315aaab4-8edb-4098-bdca-77f1360042b7",
   "metadata": {},
   "source": [
    "### Preprocessing\n",
    "- 결측치 : 없음\n",
    "- 이상치 : 모르겠음.."
   ]
  },
  {
   "cell_type": "code",
   "execution_count": 38,
   "id": "4d0449aa-739d-4ccc-9649-874d9a222a20",
   "metadata": {
    "tags": []
   },
   "outputs": [],
   "source": [
    "import matplotlib.pyplot as plt\n",
    "import matplotlib as mpl\n",
    "mpl.rc('font',family='Malgun Gothic')\n",
    "mpl.rcParams['axes.unicode_minus'] = False\n",
    "import seaborn as sns"
   ]
  },
  {
   "cell_type": "code",
   "execution_count": 33,
   "id": "6832717e-2cf2-4b50-a3bf-0c8cbaa22567",
   "metadata": {
    "tags": []
   },
   "outputs": [
    {
     "data": {
      "text/plain": [
       "EDC_SBA          0\n",
       "MDCARE_DD_CNT    0\n",
       "EDC_ADD_RT       0\n",
       "dtype: int64"
      ]
     },
     "execution_count": 33,
     "metadata": {},
     "output_type": "execute_result"
    }
   ],
   "source": [
    "drd_df_M20.isnull().sum()"
   ]
  },
  {
   "cell_type": "code",
   "execution_count": 34,
   "id": "35384eef-7c90-4d6f-bdfa-0f08534c14e7",
   "metadata": {
    "tags": []
   },
   "outputs": [
    {
     "data": {
      "text/html": [
       "<div>\n",
       "<style scoped>\n",
       "    .dataframe tbody tr th:only-of-type {\n",
       "        vertical-align: middle;\n",
       "    }\n",
       "\n",
       "    .dataframe tbody tr th {\n",
       "        vertical-align: top;\n",
       "    }\n",
       "\n",
       "    .dataframe thead th {\n",
       "        text-align: right;\n",
       "    }\n",
       "</style>\n",
       "<table border=\"1\" class=\"dataframe\">\n",
       "  <thead>\n",
       "    <tr style=\"text-align: right;\">\n",
       "      <th></th>\n",
       "      <th>EDC_SBA</th>\n",
       "      <th>MDCARE_DD_CNT</th>\n",
       "      <th>EDC_ADD_RT</th>\n",
       "    </tr>\n",
       "  </thead>\n",
       "  <tbody>\n",
       "    <tr>\n",
       "      <th>count</th>\n",
       "      <td>1.371630e+05</td>\n",
       "      <td>137163.000000</td>\n",
       "      <td>137163.000000</td>\n",
       "    </tr>\n",
       "    <tr>\n",
       "      <th>mean</th>\n",
       "      <td>1.079379e+04</td>\n",
       "      <td>1.977071</td>\n",
       "      <td>0.163576</td>\n",
       "    </tr>\n",
       "    <tr>\n",
       "      <th>std</th>\n",
       "      <td>5.320642e+04</td>\n",
       "      <td>5.014257</td>\n",
       "      <td>0.047625</td>\n",
       "    </tr>\n",
       "    <tr>\n",
       "      <th>min</th>\n",
       "      <td>0.000000e+00</td>\n",
       "      <td>0.000000</td>\n",
       "      <td>0.000000</td>\n",
       "    </tr>\n",
       "    <tr>\n",
       "      <th>25%</th>\n",
       "      <td>2.500000e+03</td>\n",
       "      <td>1.000000</td>\n",
       "      <td>0.150000</td>\n",
       "    </tr>\n",
       "    <tr>\n",
       "      <th>50%</th>\n",
       "      <td>3.500000e+03</td>\n",
       "      <td>1.000000</td>\n",
       "      <td>0.150000</td>\n",
       "    </tr>\n",
       "    <tr>\n",
       "      <th>75%</th>\n",
       "      <td>6.000000e+03</td>\n",
       "      <td>1.000000</td>\n",
       "      <td>0.150000</td>\n",
       "    </tr>\n",
       "    <tr>\n",
       "      <th>max</th>\n",
       "      <td>4.431340e+06</td>\n",
       "      <td>120.000000</td>\n",
       "      <td>0.300000</td>\n",
       "    </tr>\n",
       "  </tbody>\n",
       "</table>\n",
       "</div>"
      ],
      "text/plain": [
       "            EDC_SBA  MDCARE_DD_CNT     EDC_ADD_RT\n",
       "count  1.371630e+05  137163.000000  137163.000000\n",
       "mean   1.079379e+04       1.977071       0.163576\n",
       "std    5.320642e+04       5.014257       0.047625\n",
       "min    0.000000e+00       0.000000       0.000000\n",
       "25%    2.500000e+03       1.000000       0.150000\n",
       "50%    3.500000e+03       1.000000       0.150000\n",
       "75%    6.000000e+03       1.000000       0.150000\n",
       "max    4.431340e+06     120.000000       0.300000"
      ]
     },
     "execution_count": 34,
     "metadata": {},
     "output_type": "execute_result"
    }
   ],
   "source": [
    "drd_df_M20.describe()"
   ]
  },
  {
   "cell_type": "code",
   "execution_count": 35,
   "id": "6fa2c5fc-44f2-4ea4-9eb4-272f06466007",
   "metadata": {
    "tags": []
   },
   "outputs": [],
   "source": [
    "cols = drd_df_M20.columns"
   ]
  },
  {
   "cell_type": "code",
   "execution_count": 37,
   "id": "62d8d9db-6135-46ae-adea-f10e42a42b5f",
   "metadata": {
    "tags": []
   },
   "outputs": [
    {
     "data": {
      "image/png": "[encoded data removed]",
      "text/plain": [
       "<Figure size 640x480 with 1 Axes>"
      ]
     },
     "metadata": {},
     "output_type": "display_data"
    },
    {
     "data": {
      "image/png": "[encoded data removed]",
      "text/plain": [
       "<Figure size 640x480 with 1 Axes>"
      ]
     },
     "metadata": {},
     "output_type": "display_data"
    },
    {
     "data": {
      "image/png": "[encoded data removed]",
      "text/plain": [
       "<Figure size 640x480 with 1 Axes>"
      ]
     },
     "metadata": {},
     "output_type": "display_data"
    }
   ],
   "source": [
    "for item in cols :\n",
    "    sns.boxplot(drd_df_M20, x=item)\n",
    "    plt.title(item)\n",
    "    plt.show()"
   ]
  },
  {
   "cell_type": "markdown",
   "id": "78f799d2-16dc-47eb-8516-d48f2edf57f3",
   "metadata": {
    "tags": []
   },
   "source": [
    "### 모델(알고리즘) 학습\n",
    "- target datatype 종속"
   ]
  },
  {
   "cell_type": "code",
   "execution_count": 40,
   "id": "a6aa3705-6f32-4d6c-b779-621c836900aa",
   "metadata": {
    "tags": []
   },
   "outputs": [],
   "source": [
    "from sklearn.linear_model import LinearRegression"
   ]
  },
  {
   "cell_type": "code",
   "execution_count": 41,
   "id": "b98619de-a221-4a19-b56c-418bbe6694d7",
   "metadata": {
    "tags": []
   },
   "outputs": [],
   "source": [
    "model = LinearRegression()"
   ]
  },
  {
   "cell_type": "code",
   "execution_count": 42,
   "id": "dae91734-979a-4222-821a-5bebad0dac04",
   "metadata": {
    "tags": []
   },
   "outputs": [
    {
     "data": {
      "text/html": [
       "<style>#sk-container-id-1 {color: black;background-color: white;}#sk-container-id-1 pre{padding: 0;}#sk-container-id-1 div.sk-toggleable {background-color: white;}#sk-container-id-1 label.sk-toggleable__label {cursor: pointer;display: block;width: 100%;margin-bottom: 0;padding: 0.3em;box-sizing: border-box;text-align: center;}#sk-container-id-1 label.sk-toggleable__label-arrow:before {content: \"▸\";float: left;margin-right: 0.25em;color: #696969;}#sk-container-id-1 label.sk-toggleable__label-arrow:hover:before {color: black;}#sk-container-id-1 div.sk-estimator:hover label.sk-toggleable__label-arrow:before {color: black;}#sk-container-id-1 div.sk-toggleable__content {max-height: 0;max-width: 0;overflow: hidden;text-align: left;background-color: #f0f8ff;}#sk-container-id-1 div.sk-toggleable__content pre {margin: 0.2em;color: black;border-radius: 0.25em;background-color: #f0f8ff;}#sk-container-id-1 input.sk-toggleable__control:checked~div.sk-toggleable__content {max-height: 200px;max-width: 100%;overflow: auto;}#sk-container-id-1 input.sk-toggleable__control:checked~label.sk-toggleable__label-arrow:before {content: \"▾\";}#sk-container-id-1 div.sk-estimator input.sk-toggleable__control:checked~label.sk-toggleable__label {background-color: #d4ebff;}#sk-container-id-1 div.sk-label input.sk-toggleable__control:checked~label.sk-toggleable__label {background-color: #d4ebff;}#sk-container-id-1 input.sk-hidden--visually {border: 0;clip: rect(1px 1px 1px 1px);clip: rect(1px, 1px, 1px, 1px);height: 1px;margin: -1px;overflow: hidden;padding: 0;position: absolute;width: 1px;}#sk-container-id-1 div.sk-estimator {font-family: monospace;background-color: #f0f8ff;border: 1px dotted black;border-radius: 0.25em;box-sizing: border-box;margin-bottom: 0.5em;}#sk-container-id-1 div.sk-estimator:hover {background-color: #d4ebff;}#sk-container-id-1 div.sk-parallel-item::after {content: \"\";width: 100%;border-bottom: 1px solid gray;flex-grow: 1;}#sk-container-id-1 div.sk-label:hover label.sk-toggleable__label {background-color: #d4ebff;}#sk-container-id-1 div.sk-serial::before {content: \"\";position: absolute;border-left: 1px solid gray;box-sizing: border-box;top: 0;bottom: 0;left: 50%;z-index: 0;}#sk-container-id-1 div.sk-serial {display: flex;flex-direction: column;align-items: center;background-color: white;padding-right: 0.2em;padding-left: 0.2em;position: relative;}#sk-container-id-1 div.sk-item {position: relative;z-index: 1;}#sk-container-id-1 div.sk-parallel {display: flex;align-items: stretch;justify-content: center;background-color: white;position: relative;}#sk-container-id-1 div.sk-item::before, #sk-container-id-1 div.sk-parallel-item::before {content: \"\";position: absolute;border-left: 1px solid gray;box-sizing: border-box;top: 0;bottom: 0;left: 50%;z-index: -1;}#sk-container-id-1 div.sk-parallel-item {display: flex;flex-direction: column;z-index: 1;position: relative;background-color: white;}#sk-container-id-1 div.sk-parallel-item:first-child::after {align-self: flex-end;width: 50%;}#sk-container-id-1 div.sk-parallel-item:last-child::after {align-self: flex-start;width: 50%;}#sk-container-id-1 div.sk-parallel-item:only-child::after {width: 0;}#sk-container-id-1 div.sk-dashed-wrapped {border: 1px dashed gray;margin: 0 0.4em 0.5em 0.4em;box-sizing: border-box;padding-bottom: 0.4em;background-color: white;}#sk-container-id-1 div.sk-label label {font-family: monospace;font-weight: bold;display: inline-block;line-height: 1.2em;}#sk-container-id-1 div.sk-label-container {text-align: center;}#sk-container-id-1 div.sk-container {/* jupyter's `normalize.less` sets `[hidden] { display: none; }` but bootstrap.min.css set `[hidden] { display: none !important; }` so we also need the `!important` here to be able to override the default hidden behavior on the sphinx rendered scikit-learn.org. See: https://github.com/scikit-learn/scikit-learn/issues/21755 */display: inline-block !important;position: relative;}#sk-container-id-1 div.sk-text-repr-fallback {display: none;}</style><div id=\"sk-container-id-1\" class=\"sk-top-container\"><div class=\"sk-text-repr-fallback\"><pre>LinearRegression()</pre><b>In a Jupyter environment, please rerun this cell to show the HTML representation or trust the notebook. <br />On GitHub, the HTML representation is unable to render, please try loading this page with nbviewer.org.</b></div><div class=\"sk-container\" hidden><div class=\"sk-item\"><div class=\"sk-estimator sk-toggleable\"><input class=\"sk-toggleable__control sk-hidden--visually\" id=\"sk-estimator-id-1\" type=\"checkbox\" checked><label for=\"sk-estimator-id-1\" class=\"sk-toggleable__label sk-toggleable__label-arrow\">LinearRegression</label><div class=\"sk-toggleable__content\"><pre>LinearRegression()</pre></div></div></div></div></div>"
      ],
      "text/plain": [
       "LinearRegression()"
      ]
     },
     "execution_count": 42,
     "metadata": {},
     "output_type": "execute_result"
    }
   ],
   "source": [
    "model.fit(labels, target) # fit(설명변수, 목표변수)"
   ]
  },
  {
   "cell_type": "markdown",
   "id": "7a1d8176-a7f3-4f18-aeb7-01f2c9847210",
   "metadata": {},
   "source": [
    "### 평가"
   ]
  },
  {
   "cell_type": "code",
   "execution_count": 43,
   "id": "195d7c7a-0d92-4004-9d8d-c4c25abae10c",
   "metadata": {
    "tags": []
   },
   "outputs": [
    {
     "data": {
      "text/plain": [
       "137163"
      ]
     },
     "execution_count": 43,
     "metadata": {},
     "output_type": "execute_result"
    }
   ],
   "source": [
    "target_predict = model.predict(labels)\n",
    "len(target_predict)"
   ]
  },
  {
   "cell_type": "code",
   "execution_count": 44,
   "id": "edbb4654-633d-4cc5-9a20-01ad2f0243db",
   "metadata": {
    "tags": []
   },
   "outputs": [],
   "source": [
    "from sklearn.metrics import r2_score"
   ]
  },
  {
   "cell_type": "code",
   "execution_count": 45,
   "id": "cedc3a27-520e-49f3-8d44-0df6dbc22b2c",
   "metadata": {
    "tags": []
   },
   "outputs": [
    {
     "data": {
      "text/plain": [
       "0.13928586943787946"
      ]
     },
     "execution_count": 45,
     "metadata": {},
     "output_type": "execute_result"
    }
   ],
   "source": [
    "r2_score(target, target_predict)"
   ]
  },
  {
   "cell_type": "code",
   "execution_count": 51,
   "id": "8470ad1c-a9ce-411e-a376-1d159e8f02df",
   "metadata": {
    "tags": []
   },
   "outputs": [
    {
     "data": {
      "text/html": [
       "<div>\n",
       "<style scoped>\n",
       "    .dataframe tbody tr th:only-of-type {\n",
       "        vertical-align: middle;\n",
       "    }\n",
       "\n",
       "    .dataframe tbody tr th {\n",
       "        vertical-align: top;\n",
       "    }\n",
       "\n",
       "    .dataframe thead th {\n",
       "        text-align: right;\n",
       "    }\n",
       "</style>\n",
       "<table border=\"1\" class=\"dataframe\">\n",
       "  <thead>\n",
       "    <tr style=\"text-align: right;\">\n",
       "      <th></th>\n",
       "      <th>EDC_SBA</th>\n",
       "      <th>MDCARE_DD_CNT</th>\n",
       "      <th>EDC_ADD_RT</th>\n",
       "    </tr>\n",
       "  </thead>\n",
       "  <tbody>\n",
       "    <tr>\n",
       "      <th>0</th>\n",
       "      <td>3000</td>\n",
       "      <td>1</td>\n",
       "      <td>0.15</td>\n",
       "    </tr>\n",
       "    <tr>\n",
       "      <th>1</th>\n",
       "      <td>3000</td>\n",
       "      <td>1</td>\n",
       "      <td>0.15</td>\n",
       "    </tr>\n",
       "    <tr>\n",
       "      <th>2</th>\n",
       "      <td>3000</td>\n",
       "      <td>1</td>\n",
       "      <td>0.15</td>\n",
       "    </tr>\n",
       "    <tr>\n",
       "      <th>3</th>\n",
       "      <td>3000</td>\n",
       "      <td>1</td>\n",
       "      <td>0.15</td>\n",
       "    </tr>\n",
       "  </tbody>\n",
       "</table>\n",
       "</div>"
      ],
      "text/plain": [
       "   EDC_SBA  MDCARE_DD_CNT  EDC_ADD_RT\n",
       "0     3000              1        0.15\n",
       "1     3000              1        0.15\n",
       "2     3000              1        0.15\n",
       "3     3000              1        0.15"
      ]
     },
     "execution_count": 51,
     "metadata": {},
     "output_type": "execute_result"
    }
   ],
   "source": [
    "drd_df_M20[0:4]"
   ]
  },
  {
   "cell_type": "code",
   "execution_count": 55,
   "id": "87a21d86-5200-4f83-810c-226d7aa4ee25",
   "metadata": {
    "tags": []
   },
   "outputs": [
    {
     "data": {
      "text/html": [
       "<div>\n",
       "<style scoped>\n",
       "    .dataframe tbody tr th:only-of-type {\n",
       "        vertical-align: middle;\n",
       "    }\n",
       "\n",
       "    .dataframe tbody tr th {\n",
       "        vertical-align: top;\n",
       "    }\n",
       "\n",
       "    .dataframe thead th {\n",
       "        text-align: right;\n",
       "    }\n",
       "</style>\n",
       "<table border=\"1\" class=\"dataframe\">\n",
       "  <thead>\n",
       "    <tr style=\"text-align: right;\">\n",
       "      <th></th>\n",
       "      <th>EDC_SBA</th>\n",
       "      <th>MDCARE_DD_CNT</th>\n",
       "      <th>EDC_ADD_RT</th>\n",
       "    </tr>\n",
       "  </thead>\n",
       "  <tbody>\n",
       "    <tr>\n",
       "      <th>136003</th>\n",
       "      <td>4900</td>\n",
       "      <td>1</td>\n",
       "      <td>0.3</td>\n",
       "    </tr>\n",
       "    <tr>\n",
       "      <th>136004</th>\n",
       "      <td>4900</td>\n",
       "      <td>1</td>\n",
       "      <td>0.3</td>\n",
       "    </tr>\n",
       "    <tr>\n",
       "      <th>136005</th>\n",
       "      <td>4500</td>\n",
       "      <td>1</td>\n",
       "      <td>0.3</td>\n",
       "    </tr>\n",
       "    <tr>\n",
       "      <th>136006</th>\n",
       "      <td>5300</td>\n",
       "      <td>1</td>\n",
       "      <td>0.3</td>\n",
       "    </tr>\n",
       "  </tbody>\n",
       "</table>\n",
       "</div>"
      ],
      "text/plain": [
       "        EDC_SBA  MDCARE_DD_CNT  EDC_ADD_RT\n",
       "136003     4900              1         0.3\n",
       "136004     4900              1         0.3\n",
       "136005     4500              1         0.3\n",
       "136006     5300              1         0.3"
      ]
     },
     "execution_count": 55,
     "metadata": {},
     "output_type": "execute_result"
    }
   ],
   "source": [
    "drd_df_M20[136003:136007]"
   ]
  },
  {
   "cell_type": "code",
   "execution_count": 53,
   "id": "f40803c0-2b19-4d4b-bea1-2819528ac24c",
   "metadata": {
    "tags": []
   },
   "outputs": [
    {
     "data": {
      "text/html": [
       "<div>\n",
       "<style scoped>\n",
       "    .dataframe tbody tr th:only-of-type {\n",
       "        vertical-align: middle;\n",
       "    }\n",
       "\n",
       "    .dataframe tbody tr th {\n",
       "        vertical-align: top;\n",
       "    }\n",
       "\n",
       "    .dataframe thead th {\n",
       "        text-align: right;\n",
       "    }\n",
       "</style>\n",
       "<table border=\"1\" class=\"dataframe\">\n",
       "  <thead>\n",
       "    <tr style=\"text-align: right;\">\n",
       "      <th></th>\n",
       "      <th>EDC_SBA</th>\n",
       "      <th>MDCARE_DD_CNT</th>\n",
       "      <th>EDC_ADD_RT</th>\n",
       "    </tr>\n",
       "  </thead>\n",
       "  <tbody>\n",
       "    <tr>\n",
       "      <th>137000</th>\n",
       "      <td>212920</td>\n",
       "      <td>30</td>\n",
       "      <td>0.2</td>\n",
       "    </tr>\n",
       "    <tr>\n",
       "      <th>137001</th>\n",
       "      <td>236440</td>\n",
       "      <td>31</td>\n",
       "      <td>0.2</td>\n",
       "    </tr>\n",
       "    <tr>\n",
       "      <th>137002</th>\n",
       "      <td>223800</td>\n",
       "      <td>31</td>\n",
       "      <td>0.2</td>\n",
       "    </tr>\n",
       "    <tr>\n",
       "      <th>137003</th>\n",
       "      <td>209510</td>\n",
       "      <td>30</td>\n",
       "      <td>0.2</td>\n",
       "    </tr>\n",
       "  </tbody>\n",
       "</table>\n",
       "</div>"
      ],
      "text/plain": [
       "        EDC_SBA  MDCARE_DD_CNT  EDC_ADD_RT\n",
       "137000   212920             30         0.2\n",
       "137001   236440             31         0.2\n",
       "137002   223800             31         0.2\n",
       "137003   209510             30         0.2"
      ]
     },
     "execution_count": 53,
     "metadata": {},
     "output_type": "execute_result"
    }
   ],
   "source": [
    "drd_df_M20[137000:137004]"
   ]
  },
  {
   "cell_type": "code",
   "execution_count": 56,
   "id": "a409cb26-37f1-48d5-ac3f-eead9f8040ae",
   "metadata": {
    "tags": []
   },
   "outputs": [],
   "source": [
    "# 1, 0.3 : 외부에서 입력한 설명변수 값들\n",
    "temp_label = [[1, 0.3]]"
   ]
  },
  {
   "cell_type": "code",
   "execution_count": 57,
   "id": "7006d663-b9d9-4b55-8d65-994352a902f2",
   "metadata": {
    "tags": []
   },
   "outputs": [
    {
     "name": "stderr",
     "output_type": "stream",
     "text": [
      "C:\\Users\\01-03\\anaconda3\\Lib\\site-packages\\sklearn\\base.py:439: UserWarning: X does not have valid feature names, but LinearRegression was fitted with feature names\n",
      "  warnings.warn(\n"
     ]
    },
    {
     "data": {
      "text/plain": [
       "array([36766.08222387])"
      ]
     },
     "execution_count": 57,
     "metadata": {},
     "output_type": "execute_result"
    }
   ],
   "source": [
    "model.predict(temp_label)"
   ]
  },
  {
   "cell_type": "code",
   "execution_count": null,
   "id": "42dd1825-2a39-4169-ab7b-0030caf79f82",
   "metadata": {},
   "outputs": [],
   "source": []
  },
  {
   "cell_type": "code",
   "execution_count": null,
   "id": "ba81120c-95d6-489d-bb9f-b782a09e4da5",
   "metadata": {},
   "outputs": [],
   "source": []
  }
 ],
 "metadata": {
  "kernelspec": {
   "display_name": "Python 3 (ipykernel)",
   "language": "python",
   "name": "python3"
  },
  "language_info": {
   "codemirror_mode": {
    "name": "ipython",
    "version": 3
   },
   "file_extension": ".py",
   "mimetype": "text/x-python",
   "name": "python",
   "nbconvert_exporter": "python",
   "pygments_lexer": "ipython3",
   "version": "3.11.3"
  }
 },
 "nbformat": 4,
 "nbformat_minor": 5
}
